{
 "cells": [
  {
   "cell_type": "markdown",
   "metadata": {
    "deletable": true,
    "editable": true
   },
   "source": [
    "# MOs demand utility\n",
    "Based on cost amount - 5% top outliers to be dismissed"
   ]
  },
  {
   "cell_type": "markdown",
   "metadata": {
    "deletable": true,
    "editable": true
   },
   "source": [
    "Import all then modules"
   ]
  },
  {
   "cell_type": "code",
   "execution_count": 1,
   "metadata": {
    "collapsed": true,
    "deletable": true,
    "editable": true
   },
   "outputs": [],
   "source": [
    "import pandas as pd\n",
    "from pandas import ExcelWriter\n",
    "from matplotlib import pyplot as plt\n",
    "plt.rcParams.update({'figure.max_open_warning': 0})\n",
    "import numpy as np\n",
    "import seaborn as sns\n",
    "sns.set(style=\"darkgrid\")\n",
    "%matplotlib inline\n",
    "from sklearn import linear_model\n",
    "from sklearn.metrics import r2_score"
   ]
  },
  {
   "cell_type": "markdown",
   "metadata": {},
   "source": [
    "Create a function to get the items based on two dataframes"
   ]
  },
  {
   "cell_type": "code",
   "execution_count": 2,
   "metadata": {
    "collapsed": true
   },
   "outputs": [],
   "source": [
    "def get_items(reported_df, mo_list, df_items):\n",
    "    # Merge complete reported MO dataset with selected MO from sales\n",
    "    reported_df['Ref order no'] = reported_df['Ref order no'].astype(str)\n",
    "    mo_list['Ref order no'] = mo_list['Ref order no'].astype(str)\n",
    "    df_filtered = pd.merge(reported_df, mo_list, on='Ref order no')\n",
    "    \n",
    "    # Change the items no format in order to not have merging problems\n",
    "    df_filtered['Component no'] = df_filtered['Component no'].astype(str)\n",
    "    df_items['Component no'] = df_items['Component no'].astype(str)\n",
    "    \n",
    "    # Merge the items to forecast with the MOs filtered dataset\n",
    "    df = pd.merge(df_items, df_filtered, on = 'Component no')\n",
    "    \n",
    "    # Group, count and return final dataset\n",
    "    df['Rep qty'] = df['Rep qty'].astype('int64')\n",
    "    df_grouped = df.groupby(['Component no','Item name']).sum().sort_values(['Rep qty'], ascending = [False])\n",
    "    df_grouped = df_grouped.drop(['Order no', 'Line no', 'Qty', 'Cost amount'], 1)\n",
    "    \n",
    "    return df_grouped"
   ]
  },
  {
   "cell_type": "markdown",
   "metadata": {
    "deletable": true,
    "editable": true
   },
   "source": [
    "Import sales file. From this file we'll get the mo_list"
   ]
  },
  {
   "cell_type": "code",
   "execution_count": 3,
   "metadata": {
    "collapsed": false,
    "deletable": true,
    "editable": true
   },
   "outputs": [],
   "source": [
    "sales_file = 'Sales.xlsx'\n",
    "df_sales = pd.read_excel(sales_file, usecols = ['Customer name', 'Salesp.Order', 'Order no',\n",
    "                                                'Line no', 'Item no', 'Item group descr', 'Qty',\n",
    "                                                'Cost amount', 'Ref order no'])"
   ]
  },
  {
   "cell_type": "markdown",
   "metadata": {},
   "source": [
    "Import reported MOs file"
   ]
  },
  {
   "cell_type": "code",
   "execution_count": 4,
   "metadata": {
    "collapsed": false
   },
   "outputs": [],
   "source": [
    "reported_file = 'MOs AHU.xlsx'\n",
    "reported_df = pd.read_excel(reported_file, usecols = ['Ref order no', 'Component no',\n",
    "                                                      'Component name', 'Rep qty'])"
   ]
  },
  {
   "cell_type": "markdown",
   "metadata": {},
   "source": [
    "Import items to forecast"
   ]
  },
  {
   "cell_type": "code",
   "execution_count": 5,
   "metadata": {
    "collapsed": false
   },
   "outputs": [],
   "source": [
    "items_file = 'Items to forecast.xlsx'\n",
    "df_items = pd.read_excel(items_file)"
   ]
  },
  {
   "cell_type": "markdown",
   "metadata": {
    "deletable": true,
    "editable": true
   },
   "source": [
    "Filter the data for taking into account only the AHUs. Exclude DCC orders"
   ]
  },
  {
   "cell_type": "code",
   "execution_count": 6,
   "metadata": {
    "collapsed": false,
    "deletable": true,
    "editable": true
   },
   "outputs": [],
   "source": [
    "df_ahu = df_sales[df_sales['Item group descr'] == '60302   Central units']\n",
    "df_ahu = df_ahu[df_ahu['Salesp.Order'] != 'D645ANKO']"
   ]
  },
  {
   "cell_type": "markdown",
   "metadata": {
    "deletable": true,
    "editable": true
   },
   "source": [
    "Create a pivot table for the cost amount"
   ]
  },
  {
   "cell_type": "code",
   "execution_count": 7,
   "metadata": {
    "collapsed": false,
    "deletable": true,
    "editable": true
   },
   "outputs": [],
   "source": [
    "pivot_sales = pd.pivot_table(df_ahu, index = ['Order no', 'Customer name'],\n",
    "                             values = ['Cost amount'], aggfunc=np.sum)\n",
    "pivot_sales = pd.DataFrame(pivot_sales.to_records())"
   ]
  },
  {
   "cell_type": "markdown",
   "metadata": {
    "deletable": true,
    "editable": true
   },
   "source": [
    "Get some stats about the cost"
   ]
  },
  {
   "cell_type": "code",
   "execution_count": 8,
   "metadata": {
    "collapsed": false
   },
   "outputs": [
    {
     "name": "stdout",
     "output_type": "stream",
     "text": [
      "Percentile  0 :  79.228\n",
      "Percentile  5 :  1073.116\n",
      "Percentile  10 :  2112.2666\n",
      "Percentile  15 :  2897.7214\n",
      "Percentile  20 :  3559.6742\n",
      "Percentile  25 :  4154.615\n",
      "Percentile  30 :  4863.393\n",
      "Percentile  35 :  5307.9346\n",
      "Percentile  40 :  5940.527\n",
      "Percentile  45 :  6668.6516\n",
      "Percentile  50 :  7618.025\n",
      "Percentile  55 :  8636.2528\n",
      "Percentile  60 :  10157.8382\n",
      "Percentile  65 :  11888.0626\n",
      "Percentile  70 :  13693.2372\n",
      "Percentile  75 :  16346.486\n",
      "Percentile  80 :  20958.0126\n",
      "Percentile  85 :  31424.8678\n",
      "Percentile  90 :  42890.4262\n",
      "Percentile  95 :  71808.4122\n",
      "Percentile  100 :  354377.176\n"
     ]
    }
   ],
   "source": [
    "for i in range(0, 105, 5):\n",
    "    value = pivot_sales['Cost amount'].quantile(i/100)\n",
    "    print('Percentile ', i, ': ', value)"
   ]
  },
  {
   "cell_type": "code",
   "execution_count": 9,
   "metadata": {
    "collapsed": false,
    "deletable": true,
    "editable": true
   },
   "outputs": [
    {
     "data": {
      "text/plain": [
       "<matplotlib.axes._subplots.AxesSubplot at 0xb2135f8>"
      ]
     },
     "execution_count": 9,
     "metadata": {},
     "output_type": "execute_result"
    },
    {
     "data": {
      "image/png": "[encoded data removed]",
      "text/plain": [
       "<matplotlib.figure.Figure at 0xb257710>"
      ]
     },
     "metadata": {},
     "output_type": "display_data"
    }
   ],
   "source": [
    "pivot_sales['Cost amount'].hist(cumulative=True, bins=100, normed=1)"
   ]
  },
  {
   "cell_type": "markdown",
   "metadata": {
    "deletable": true,
    "editable": true
   },
   "source": [
    "Plot the histogram and check the outliers limits"
   ]
  },
  {
   "cell_type": "code",
   "execution_count": 10,
   "metadata": {
    "collapsed": false,
    "deletable": true,
    "editable": true
   },
   "outputs": [
    {
     "data": {
      "text/plain": [
       "<matplotlib.text.Annotation at 0xe459a20>"
      ]
     },
     "execution_count": 10,
     "metadata": {},
     "output_type": "execute_result"
    },
    {
     "data": {
      "image/png": "[encoded data removed]",
      "text/plain": [
       "<matplotlib.figure.Figure at 0xb2e4860>"
      ]
     },
     "metadata": {},
     "output_type": "display_data"
    }
   ],
   "source": [
    "x = pivot_sales['Cost amount']\n",
    "sns.distplot(x, bins=200, kde=False)\n",
    "plt.xlim([0, 80000])\n",
    "lower_limit , upper_limit = 1000, 40000\n",
    "plt.axvline(lower_limit, color='b')\n",
    "plt.axvline(upper_limit, color='b')\n",
    "plt.annotate('STD orders', xy=(25, 50), xytext=(15000, 40))\n",
    "plt.annotate('BIG orders', xy=(25, 50), xytext=(50000, 40))"
   ]
  },
  {
   "cell_type": "markdown",
   "metadata": {},
   "source": [
    "Standard orders"
   ]
  },
  {
   "cell_type": "code",
   "execution_count": 11,
   "metadata": {
    "collapsed": false
   },
   "outputs": [
    {
     "name": "stdout",
     "output_type": "stream",
     "text": [
      "Cost amount of std orders:  2909550.8009999986\n",
      "Percentage of total cost amount:  0.4375964292959371\n"
     ]
    }
   ],
   "source": [
    "co_df = pivot_sales[(pivot_sales['Cost amount'] > lower_limit) & \n",
    "                    (pivot_sales['Cost amount'] < upper_limit)]\n",
    "\n",
    "total_cost = df_ahu['Cost amount'].sum(axis = 0, skipna = True)\n",
    "cost_amount_std = co_df['Cost amount'].sum(axis = 0, skipna = True)\n",
    "\n",
    "print('Cost amount of std orders: ', cost_amount_std)\n",
    "print('Percentage of total cost amount: ', cost_amount_std/total_cost)\n",
    "\n",
    "co_list = co_df.drop(['Customer name', 'Cost amount'], axis = 1)\n",
    "mo_list = pd.merge(df_sales, co_list, on='Order no')\n",
    "items = get_items(reported_df, mo_list, df_items)\n",
    "name = 'Exported items from std orders.xlsx'\n",
    "items.to_excel(name)"
   ]
  },
  {
   "cell_type": "markdown",
   "metadata": {},
   "source": [
    "Big orders"
   ]
  },
  {
   "cell_type": "code",
   "execution_count": 12,
   "metadata": {
    "collapsed": false
   },
   "outputs": [
    {
     "name": "stdout",
     "output_type": "stream",
     "text": [
      "Cost amount of big orders:  3731733.1060000006\n",
      "Percentage of total cost amount:  0.5612526448102523\n"
     ]
    }
   ],
   "source": [
    "lower_limit , upper_limit = upper_limit, 500000\n",
    "co_df = pivot_sales[(pivot_sales['Cost amount'] > lower_limit) & \n",
    "                    (pivot_sales['Cost amount'] < upper_limit)]\n",
    "\n",
    "cost_amount_big = co_df['Cost amount'].sum(axis = 0, skipna = True)\n",
    "\n",
    "print('Cost amount of big orders: ', cost_amount_big)\n",
    "print('Percentage of total cost amount: ', cost_amount_big/total_cost)\n",
    "\n",
    "co_list = co_df.drop(['Customer name', 'Cost amount'], axis = 1)\n",
    "mo_list = pd.merge(df_sales, co_list, on='Order no')\n",
    "items = get_items(reported_df, mo_list, df_items)\n",
    "name = 'Exported items from big orders.xlsx'\n",
    "items.to_excel(name)"
   ]
  }
 ],
 "metadata": {
  "anaconda-cloud": {},
  "kernelspec": {
   "display_name": "Python [default]",
   "language": "python",
   "name": "python3"
  },
  "language_info": {
   "codemirror_mode": {
    "name": "ipython",
    "version": 3
   },
   "file_extension": ".py",
   "mimetype": "text/x-python",
   "name": "python",
   "nbconvert_exporter": "python",
   "pygments_lexer": "ipython3",
   "version": "3.5.2"
  }
 },
 "nbformat": 4,
 "nbformat_minor": 2
}
